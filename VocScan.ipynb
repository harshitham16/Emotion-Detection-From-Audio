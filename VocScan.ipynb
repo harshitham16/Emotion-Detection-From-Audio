{
 "cells": [
  {
   "cell_type": "code",
   "execution_count": 24,
   "metadata": {},
   "outputs": [
    {
     "name": "stdout",
     "output_type": "stream",
     "text": [
      "completed step\n"
     ]
    }
   ],
   "source": [
    "import librosa\n",
    "import pandas as pd\n",
    "import IPython.display as ipd\n",
    "import numpy as np\n",
    "import tensorflow as tf\n",
    "from tensorflow import keras\n",
    "model = keras.models.load_model('mymodel')\n",
    "#specifying labels of emotion, reuired for classes\n",
    "emotionMap = {0:'neutral', 1:'calm', 2:'happy', 3:'sad', 4:'angry', 5:'fear', 6:'disgust', 7:'surprise'}\n",
    "print('completed step')"
   ]
  },
  {
   "cell_type": "code",
   "execution_count": 29,
   "metadata": {},
   "outputs": [
    {
     "data": {
      "text/html": [
       "<div>\n",
       "<style scoped>\n",
       "    .dataframe tbody tr th:only-of-type {\n",
       "        vertical-align: middle;\n",
       "    }\n",
       "\n",
       "    .dataframe tbody tr th {\n",
       "        vertical-align: top;\n",
       "    }\n",
       "\n",
       "    .dataframe thead th {\n",
       "        text-align: right;\n",
       "    }\n",
       "</style>\n",
       "<table border=\"1\" class=\"dataframe\">\n",
       "  <thead>\n",
       "    <tr style=\"text-align: right;\">\n",
       "      <th></th>\n",
       "      <th>0</th>\n",
       "      <th>1</th>\n",
       "      <th>2</th>\n",
       "      <th>3</th>\n",
       "      <th>4</th>\n",
       "      <th>5</th>\n",
       "      <th>6</th>\n",
       "      <th>7</th>\n",
       "      <th>8</th>\n",
       "      <th>9</th>\n",
       "      <th>...</th>\n",
       "      <th>249</th>\n",
       "      <th>250</th>\n",
       "      <th>251</th>\n",
       "      <th>252</th>\n",
       "      <th>253</th>\n",
       "      <th>254</th>\n",
       "      <th>255</th>\n",
       "      <th>256</th>\n",
       "      <th>257</th>\n",
       "      <th>258</th>\n",
       "    </tr>\n",
       "  </thead>\n",
       "  <tbody>\n",
       "    <tr>\n",
       "      <td>0</td>\n",
       "      <td>-43.034767</td>\n",
       "      <td>-42.886227</td>\n",
       "      <td>-42.879051</td>\n",
       "      <td>-42.759583</td>\n",
       "      <td>-41.277554</td>\n",
       "      <td>-38.545448</td>\n",
       "      <td>-36.18568</td>\n",
       "      <td>-35.698917</td>\n",
       "      <td>-35.641945</td>\n",
       "      <td>-32.898178</td>\n",
       "      <td>...</td>\n",
       "      <td>-34.455399</td>\n",
       "      <td>-35.39957</td>\n",
       "      <td>-36.938568</td>\n",
       "      <td>-38.298855</td>\n",
       "      <td>-40.071812</td>\n",
       "      <td>-41.050892</td>\n",
       "      <td>-41.82729</td>\n",
       "      <td>-42.700016</td>\n",
       "      <td>-43.370239</td>\n",
       "      <td>-43.809811</td>\n",
       "    </tr>\n",
       "  </tbody>\n",
       "</table>\n",
       "<p>1 rows × 259 columns</p>\n",
       "</div>"
      ],
      "text/plain": [
       "         0          1          2          3          4          5         6    \\\n",
       "0 -43.034767 -42.886227 -42.879051 -42.759583 -41.277554 -38.545448 -36.18568   \n",
       "\n",
       "         7          8          9    ...        249       250        251  \\\n",
       "0 -35.698917 -35.641945 -32.898178  ... -34.455399 -35.39957 -36.938568   \n",
       "\n",
       "         252        253        254       255        256        257        258  \n",
       "0 -38.298855 -40.071812 -41.050892 -41.82729 -42.700016 -43.370239 -43.809811  \n",
       "\n",
       "[1 rows x 259 columns]"
      ]
     },
     "execution_count": 29,
     "metadata": {},
     "output_type": "execute_result"
    }
   ],
   "source": [
    "#load test sample\n",
    "path = 'Test/Demo_input.wav'\n",
    "X, sample_rate = librosa.load(path, res_type='kaiser_fast',duration=3,sr=44100,offset=0.5)\n",
    "\n",
    "#obtain mel spectrograph\n",
    "df = pd.DataFrame(columns=['mel_spectrogram'])\n",
    "spectrogram = librosa.feature.melspectrogram(y=X, sr=sample_rate, n_mels=128,fmax=8000) \n",
    "db_spec = librosa.power_to_db(spectrogram)\n",
    "log_spectrogram = np.mean(db_spec, axis = 0)\n",
    "df.loc[0] = [log_spectrogram] \n",
    "df = pd.DataFrame(df['mel_spectrogram'].values.tolist())\n",
    "df.head()"
   ]
  },
  {
   "cell_type": "code",
   "execution_count": 30,
   "metadata": {},
   "outputs": [
    {
     "name": "stdout",
     "output_type": "stream",
     "text": [
      "[242 243 244 245 246 247 248 249 250 251 252 253 254 255 256 257 258 259\n",
      " 260 261]\n"
     ]
    },
    {
     "data": {
      "text/html": [
       "<div>\n",
       "<style scoped>\n",
       "    .dataframe tbody tr th:only-of-type {\n",
       "        vertical-align: middle;\n",
       "    }\n",
       "\n",
       "    .dataframe tbody tr th {\n",
       "        vertical-align: top;\n",
       "    }\n",
       "\n",
       "    .dataframe thead th {\n",
       "        text-align: right;\n",
       "    }\n",
       "</style>\n",
       "<table border=\"1\" class=\"dataframe\">\n",
       "  <thead>\n",
       "    <tr style=\"text-align: right;\">\n",
       "      <th></th>\n",
       "      <th>0</th>\n",
       "      <th>1</th>\n",
       "      <th>2</th>\n",
       "      <th>3</th>\n",
       "      <th>4</th>\n",
       "      <th>5</th>\n",
       "      <th>6</th>\n",
       "      <th>7</th>\n",
       "      <th>8</th>\n",
       "      <th>9</th>\n",
       "      <th>...</th>\n",
       "      <th>252</th>\n",
       "      <th>253</th>\n",
       "      <th>254</th>\n",
       "      <th>255</th>\n",
       "      <th>256</th>\n",
       "      <th>257</th>\n",
       "      <th>258</th>\n",
       "      <th>259</th>\n",
       "      <th>260</th>\n",
       "      <th>261</th>\n",
       "    </tr>\n",
       "  </thead>\n",
       "  <tbody>\n",
       "    <tr>\n",
       "      <td>0</td>\n",
       "      <td>-43.034767</td>\n",
       "      <td>-42.886227</td>\n",
       "      <td>-42.879051</td>\n",
       "      <td>-42.759583</td>\n",
       "      <td>-41.277554</td>\n",
       "      <td>-38.545448</td>\n",
       "      <td>-36.18568</td>\n",
       "      <td>-35.698917</td>\n",
       "      <td>-35.641945</td>\n",
       "      <td>-32.898178</td>\n",
       "      <td>...</td>\n",
       "      <td>0</td>\n",
       "      <td>0</td>\n",
       "      <td>0</td>\n",
       "      <td>0</td>\n",
       "      <td>0</td>\n",
       "      <td>0</td>\n",
       "      <td>0</td>\n",
       "      <td>0</td>\n",
       "      <td>0</td>\n",
       "      <td>0</td>\n",
       "    </tr>\n",
       "  </tbody>\n",
       "</table>\n",
       "<p>1 rows × 279 columns</p>\n",
       "</div>"
      ],
      "text/plain": [
       "         0          1          2          3          4          5         6    \\\n",
       "0 -43.034767 -42.886227 -42.879051 -42.759583 -41.277554 -38.545448 -36.18568   \n",
       "\n",
       "         7          8          9    ...  252  253  254  255  256  257  258  \\\n",
       "0 -35.698917 -35.641945 -32.898178  ...    0    0    0    0    0    0    0   \n",
       "\n",
       "   259  260  261  \n",
       "0    0    0    0  \n",
       "\n",
       "[1 rows x 279 columns]"
      ]
     },
     "execution_count": 30,
     "metadata": {},
     "output_type": "execute_result"
    }
   ],
   "source": [
    "colstest = np.arange(242,262,1)\n",
    "print(colstest) \n",
    "dftest = pd.DataFrame(index=np.arange(1), columns=colstest)\n",
    "dftest = dftest.fillna(0) \n",
    "df = pd.concat([df,dftest],axis=1) \n",
    "df.head()"
   ]
  },
  {
   "cell_type": "code",
   "execution_count": 31,
   "metadata": {},
   "outputs": [
    {
     "name": "stdout",
     "output_type": "stream",
     "text": [
      "(1, 276)\n"
     ]
    }
   ],
   "source": [
    "#formatting data as required to pass to model for prediction\n",
    "x_log = df.iloc[:, 3:]\n",
    "x_log=np.array(x_log)\n",
    "print(x_log.shape)\n",
    "sample = x_log[:,:,np.newaxis]"
   ]
  },
  {
   "cell_type": "code",
   "execution_count": 32,
   "metadata": {},
   "outputs": [
    {
     "name": "stdout",
     "output_type": "stream",
     "text": [
      "WARNING:tensorflow:Model was constructed with shape (None, 259, 1) for input KerasTensor(type_spec=TensorSpec(shape=(None, 259, 1), dtype=tf.float32, name='conv1d_3_input'), name='conv1d_3_input', description=\"created by layer 'conv1d_3_input'\"), but it was called on an input with incompatible shape (None, 276, 1).\n",
      "       0\n",
      "0  happy\n"
     ]
    }
   ],
   "source": [
    "#display prediction\n",
    "predictions = model.predict(sample)\n",
    "classes = pd.DataFrame(np.argmax(predictions, axis = 1))\n",
    "print(classes.replace(emotionMap))"
   ]
  },
  {
   "cell_type": "code",
   "execution_count": null,
   "metadata": {},
   "outputs": [],
   "source": []
  }
 ],
 "metadata": {
  "kernelspec": {
   "display_name": "Python 3",
   "language": "python",
   "name": "python3"
  },
  "language_info": {
   "codemirror_mode": {
    "name": "ipython",
    "version": 3
   },
   "file_extension": ".py",
   "mimetype": "text/x-python",
   "name": "python",
   "nbconvert_exporter": "python",
   "pygments_lexer": "ipython3",
   "version": "3.7.4"
  }
 },
 "nbformat": 4,
 "nbformat_minor": 2
}
